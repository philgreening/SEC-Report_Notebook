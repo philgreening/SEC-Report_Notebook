{
 "cells": [
  {
   "cell_type": "markdown",
   "id": "aebf5eda",
   "metadata": {},
   "source": [
    "# Instructions"
   ]
  },
  {
   "cell_type": "markdown",
   "id": "2e6f83e9",
   "metadata": {},
   "source": [
    "To run this report, you will first need to down load the following reports\n",
    "* Aula report from snowflake -[latest SQL May23 Semester](https://livecoventryac.sharepoint.com/:w:/t/PlatformTeam/EdTeVzQu3BhHq8Wftzw-3ZkBSEIqRHrKJJbhgTmFBpjCOg?e=Tl14dx)\n",
    "* FutureLearn learner report - Go to leaning manager and select Learner reports\n",
    "\n",
    "Both files must be placed in the [PT Reporting/Jupyter Notebooks(Python) Reporting/SEC Report/Data](https://livecoventryac.sharepoint.com/:f:/t/PlatformTeam/EkJXF1VGYi9OnHshquJOYD0BPdj3TeujYX5RVTbXDH8PYA?e=xbRpHX) folder  \n",
    "\n",
    "The import link for the Aula report can be found here, and must be updated to match your file - [Import Aula report](#aula-report)    \n",
    "\n",
    "The import link for the FutureLearn learner report can be found here, and must be updated to match your file - [Import FL Report](#FL_report)  \n",
    "\n",
    "The filter for weekly reporting can be amended here and must be changed weekly - [Filter last step visited date](#cut-off-date) \n",
    "The semester run start date can be amended here - [Filter run start date](#run-start-date) \n",
    "\n",
    "The filter for weekly reporting can be amended here and must be changed weekly - [Filter last step visited date](#cut-off-date) \n",
    "\n",
    "\n",
    "Once everything is set up and you are ready to run the report, save the notebook and the click on the 'kernel' tab on the menu bar and select 'Resart & run all'. The excel report will be availibale to download at the end of the notebook."
   ]
  },
  {
   "cell_type": "markdown",
   "id": "49a348cb",
   "metadata": {},
   "source": [
    "# Import libraries"
   ]
  },
  {
   "cell_type": "code",
   "execution_count": null,
   "id": "f8cd11f5",
   "metadata": {},
   "outputs": [],
   "source": [
    "pip install xlsxwriter"
   ]
  },
  {
   "cell_type": "code",
   "execution_count": null,
   "id": "419eaa8b",
   "metadata": {},
   "outputs": [],
   "source": [
    "import pandas as pd\n",
    "import numpy as np\n",
    "import xlsxwriter\n",
    "from datetime import datetime, date\n",
    "from IPython.display import display, FileLink"
   ]
  },
  {
   "cell_type": "markdown",
   "id": "c25411be",
   "metadata": {},
   "source": [
    "# Import Aula report\n",
    "<a id=\"aula-report\"></a>"
   ]
  },
  {
   "cell_type": "code",
   "execution_count": null,
   "id": "21ef1c31",
   "metadata": {},
   "outputs": [],
   "source": [
    "# Amend file path below to location of aula report\n",
    "aula_report = pd.read_csv('./Data/Aula report.csv', dtype={'STUDENT_ID':'str'})\n",
    "aula_report.rename(columns={'STUDENT_ID':'learner_identifier'},inplace=True)\n",
    "aula_report"
   ]
  },
  {
   "cell_type": "markdown",
   "id": "a7078b73",
   "metadata": {},
   "source": [
    "# Import FL Learner report csv\n",
    "<a id=\"FL_report\"></a>"
   ]
  },
  {
   "cell_type": "code",
   "execution_count": null,
   "id": "f74245ba",
   "metadata": {},
   "outputs": [],
   "source": [
    "# Amend file path below to location of FL learner report\n",
    "df = pd.read_csv('./Data/FLLearner_Report_19.06.2023.csv', dtype={'run_code':'str', 'course_code':'str'})  # changes datatype on run code and course code to string\n",
    "df"
   ]
  },
  {
   "cell_type": "markdown",
   "id": "0104fa1a",
   "metadata": {},
   "source": [
    "### Filter run start dates before this semester’s cut-off date\n",
    "<a id=\"run-start-date\"></a>"
   ]
  },
  {
   "cell_type": "code",
   "execution_count": null,
   "id": "dd3687a7",
   "metadata": {},
   "outputs": [],
   "source": [
    "# Change date each semester\n",
    "df = df[(df['run_start_date'] > '2023-03-31')]"
   ]
  },
  {
   "cell_type": "markdown",
   "id": "e13a0c90",
   "metadata": {},
   "source": [
    "### Split date of last step visit to yyyy-mm-dd"
   ]
  },
  {
   "cell_type": "code",
   "execution_count": null,
   "id": "cb196621",
   "metadata": {},
   "outputs": [],
   "source": [
    "df = df.copy()\n",
    "df.loc[:, 'date_of_last_step_visit'] = pd.to_datetime(df['date_of_last_step_visit'], errors='coerce').dt.date\n",
    "df = df.reset_index(drop=True)\n",
    "df\n"
   ]
  },
  {
   "cell_type": "code",
   "execution_count": null,
   "id": "d12c4ab0",
   "metadata": {},
   "outputs": [],
   "source": [
    "# Tidy run code to remove course run number i.e 7050MHR-3_2324MAYAUG becomes 7050MHR_2324MAYAUG\n",
    "df['run_code'] = df['run_code'].replace('-[^_]*', '', regex=True)\n",
    "df"
   ]
  },
  {
   "cell_type": "markdown",
   "id": "d0a615d8",
   "metadata": {},
   "source": [
    "### Copy of enhanced learner report (elr) and add 'ProgramSID, Degree' columns"
   ]
  },
  {
   "cell_type": "code",
   "execution_count": null,
   "id": "f763167c",
   "metadata": {},
   "outputs": [],
   "source": [
    "elr = df\n",
    "elr.insert(0,\"ProgramSID\", \"\")\n",
    "elr.insert(1,\"Degree\", \"\")\n",
    "elr"
   ]
  },
  {
   "cell_type": "markdown",
   "id": "49504568",
   "metadata": {},
   "source": [
    "### Check N/As"
   ]
  },
  {
   "cell_type": "code",
   "execution_count": null,
   "id": "b7566406",
   "metadata": {},
   "outputs": [],
   "source": [
    "elr['run_code'].isnull().sum()\n"
   ]
  },
  {
   "cell_type": "code",
   "execution_count": null,
   "id": "a6f55bee",
   "metadata": {},
   "outputs": [],
   "source": [
    "# Strip leading and trailing whitespace from run code and check unique values\n",
    "elr['run_code'] = elr['run_code'].str.strip()\n",
    "elr['run_code'].unique()\n"
   ]
  },
  {
   "cell_type": "markdown",
   "id": "ffd5ba0d",
   "metadata": {},
   "source": [
    "### Drop N/As"
   ]
  },
  {
   "cell_type": "code",
   "execution_count": null,
   "id": "8ae60343",
   "metadata": {},
   "outputs": [],
   "source": [
    "elr = elr.dropna(subset=['run_code'])\n",
    "elr = elr.reset_index(drop=True)\n",
    "elr\n"
   ]
  },
  {
   "cell_type": "code",
   "execution_count": null,
   "id": "4eae1683",
   "metadata": {},
   "outputs": [],
   "source": [
    "elr['run_code'].isnull().sum()"
   ]
  },
  {
   "cell_type": "code",
   "execution_count": null,
   "id": "fc586f1c",
   "metadata": {},
   "outputs": [],
   "source": [
    "# Check unique values to see is 'nan' removed\n",
    "elr['run_code'].unique()"
   ]
  },
  {
   "cell_type": "markdown",
   "id": "b724e9e1",
   "metadata": {},
   "source": [
    "### Lookup Degree code into elr"
   ]
  },
  {
   "cell_type": "code",
   "execution_count": null,
   "id": "4a0a241e",
   "metadata": {},
   "outputs": [],
   "source": [
    "elr_join_deg = pd.merge(elr,aula_report[['learner_identifier','DEGREE_COURSE']],\n",
    "                        on='learner_identifier',\n",
    "                        how='left').drop_duplicates()\n",
    "elr_join_deg['Degree'] = elr_join_deg['DEGREE_COURSE']\n",
    "elr_join_deg = elr_join_deg.reset_index(drop=True)\n",
    "elr_join_deg"
   ]
  },
  {
   "cell_type": "markdown",
   "id": "c5b7f224",
   "metadata": {},
   "source": [
    "### Check N/As"
   ]
  },
  {
   "cell_type": "code",
   "execution_count": null,
   "id": "20e1b7f9",
   "metadata": {},
   "outputs": [],
   "source": [
    "# Stip leading and trailng whitespace from degree column\n",
    "elr_join_deg['Degree'] = elr_join_deg['Degree'].str.strip()\n",
    "elr_join_deg['Degree'].unique()"
   ]
  },
  {
   "cell_type": "code",
   "execution_count": null,
   "id": "9d609a95",
   "metadata": {},
   "outputs": [],
   "source": [
    "elr_join_deg['Degree'].isnull().sum()"
   ]
  },
  {
   "cell_type": "markdown",
   "id": "44d1fc5f",
   "metadata": {},
   "source": [
    "### Filter out any staff emails"
   ]
  },
  {
   "cell_type": "code",
   "execution_count": null,
   "id": "f9b0a7cc",
   "metadata": {},
   "outputs": [],
   "source": [
    "pattern = '[a-zA-Z]{2}[0-9]{4}@coventry.ac.uk'\n",
    "filtered_staff_email = elr_join_deg[elr_join_deg['learner_identifier'].str.contains(pattern)]"
   ]
  },
  {
   "cell_type": "code",
   "execution_count": null,
   "id": "cad997aa",
   "metadata": {},
   "outputs": [],
   "source": [
    "filtered_staff_email"
   ]
  },
  {
   "cell_type": "code",
   "execution_count": null,
   "id": "425dfe1e",
   "metadata": {},
   "outputs": [],
   "source": [
    "elr_join_deg = elr_join_deg[~elr_join_deg['learner_identifier'].str.contains(pattern)].reset_index(drop=True)\n",
    "elr_join_deg.shape\n"
   ]
  },
  {
   "cell_type": "markdown",
   "id": "74805ee7",
   "metadata": {},
   "source": [
    "### Populate Program SID column"
   ]
  },
  {
   "cell_type": "code",
   "execution_count": null,
   "id": "e6099ab7",
   "metadata": {},
   "outputs": [],
   "source": [
    "elr_join_deg['ProgramSID'] = elr_join_deg['run_code'] + elr_join_deg['learner_identifier']\n",
    "# Stip leading and trailng whitespace from programSID column\n",
    "elr_join_deg['ProgamSID'] = elr_join_deg['ProgramSID'].str.strip()\n",
    "elr_join_deg"
   ]
  },
  {
   "cell_type": "code",
   "execution_count": null,
   "id": "b600e6a4",
   "metadata": {},
   "outputs": [],
   "source": [
    "# Create final copy of FL learner report\n",
    "FL_Learner_report = elr_join_deg.copy()"
   ]
  },
  {
   "cell_type": "markdown",
   "id": "a295e456",
   "metadata": {},
   "source": [
    "## Matching Program SIDs between Aula report and FL Report"
   ]
  },
  {
   "cell_type": "code",
   "execution_count": null,
   "id": "bf4f3e7e",
   "metadata": {},
   "outputs": [],
   "source": [
    "aula_report_2 = aula_report\n",
    "aula_report_2['Match']=''\n",
    "aula_report_2[\"ProgramSID\"] = aula_report_2[\"EXTERNAL_ID\"] + aula_report_2[\"learner_identifier\"]\n",
    "psid = aula_report_2.pop('ProgramSID')\n",
    "  \n",
    "# insert column using insert(position,column_name,\n",
    "aula_report_2.insert(0, 'ProgramSID', psid)\n",
    "aula_report_2['ProgramSID'] = aula_report_2['ProgramSID'].str.strip()\n",
    "aula_report_2"
   ]
  },
  {
   "cell_type": "markdown",
   "id": "e67cfbb1",
   "metadata": {},
   "source": [
    "### Lookup into Aula report match column (true/false)"
   ]
  },
  {
   "cell_type": "code",
   "execution_count": null,
   "id": "9503c494",
   "metadata": {},
   "outputs": [],
   "source": [
    "aula_report_2['Match'] = aula_report_2['ProgramSID'].isin(elr_join_deg['ProgramSID'])\n",
    "aula_report_2"
   ]
  },
  {
   "cell_type": "code",
   "execution_count": null,
   "id": "c145f144",
   "metadata": {},
   "outputs": [],
   "source": [
    "false_count = aula_report_2['Match'].value_counts()[False]\n",
    "false_count"
   ]
  },
  {
   "cell_type": "markdown",
   "id": "a40f8a82",
   "metadata": {},
   "source": [
    "# Creating the LTI not used sheet"
   ]
  },
  {
   "cell_type": "code",
   "execution_count": null,
   "id": "49033a59",
   "metadata": {},
   "outputs": [],
   "source": [
    "lti_not_used_draft = aula_report_2[aula_report_2['Match'] == False]\n",
    "lti_not_used_draft"
   ]
  },
  {
   "cell_type": "code",
   "execution_count": null,
   "id": "cf6b1e2f",
   "metadata": {},
   "outputs": [],
   "source": [
    "# identify APHE and Apprentiship modules \n",
    "aphe_pattern = '[0-9]{4}CRB'\n",
    "filtered_report_match = lti_not_used_draft[lti_not_used_draft['EXTERNAL_ID'].str.contains(aphe_pattern) | lti_not_used_draft['EXTERNAL_ID'].str.startswith(('A', 'a'))].reset_index(drop=True)\n",
    "filtered_report_match"
   ]
  },
  {
   "cell_type": "code",
   "execution_count": null,
   "id": "b4149a40",
   "metadata": {},
   "outputs": [],
   "source": [
    "# Remove APHE and Apprentiship modules \n",
    "lti_not_used_draft = lti_not_used_draft[~lti_not_used_draft['EXTERNAL_ID'].str.contains(aphe_pattern) | lti_not_used_draft['EXTERNAL_ID'].str.startswith(('A', 'a'))].reset_index(drop=True)\n",
    "lti_not_used_draft"
   ]
  },
  {
   "cell_type": "code",
   "execution_count": null,
   "id": "d5fb6057",
   "metadata": {},
   "outputs": [],
   "source": [
    "lti_not_used_draft.shape"
   ]
  },
  {
   "cell_type": "code",
   "execution_count": null,
   "id": "21776279",
   "metadata": {},
   "outputs": [],
   "source": [
    "lti_not_used_draft.rename(columns={'learner_identifier':'STUDENT_ID', 'EXTERNAL_ID':'FL Program Code'},inplace=True)\n",
    "lti_not_used = lti_not_used_draft[['FL Program Code', 'STUDENT_ID','FIRST_NAME', 'LAST_NAME', 'EMAIL', 'DEGREE_COURSE']]\n",
    "lti_not_used"
   ]
  },
  {
   "cell_type": "markdown",
   "id": "85d1c250",
   "metadata": {},
   "source": [
    "# Creaing the not accessed between dates sheet"
   ]
  },
  {
   "cell_type": "markdown",
   "id": "c47e3897",
   "metadata": {},
   "source": [
    "### Filter learner report by start date <= to today "
   ]
  },
  {
   "cell_type": "code",
   "execution_count": null,
   "id": "50fe029f",
   "metadata": {},
   "outputs": [],
   "source": [
    "elr_join_deg['run_start_date'] = pd.to_datetime(elr_join_deg['run_start_date'])\n",
    "today = datetime.now().date()\n",
    "not_accessed_draft = elr_join_deg[elr_join_deg['run_start_date'] <= pd.Timestamp(today)]\n",
    "not_accessed_draft"
   ]
  },
  {
   "cell_type": "code",
   "execution_count": null,
   "id": "eb508621",
   "metadata": {},
   "outputs": [],
   "source": [
    "# identify APHE and Apprentiship modules \n",
    "filtered_not_accessed = not_accessed_draft[not_accessed_draft['run_code'].str.contains(aphe_pattern) | not_accessed_draft['run_code'].str.startswith(('A', 'a'))].reset_index(drop=True)\n",
    "filtered_not_accessed"
   ]
  },
  {
   "cell_type": "code",
   "execution_count": null,
   "id": "afdafc28",
   "metadata": {},
   "outputs": [],
   "source": [
    "# remove APHE and Apprentiship modules \n",
    "not_accessed = not_accessed_draft[~not_accessed_draft['run_code'].str.contains(aphe_pattern) | not_accessed_draft['run_code'].str.startswith(('A', 'a'))].reset_index(drop=True)\n",
    "not_accessed"
   ]
  },
  {
   "cell_type": "code",
   "execution_count": null,
   "id": "6da0a8c2",
   "metadata": {},
   "outputs": [],
   "source": [
    "not_accessed['learner_identifier'].nunique()"
   ]
  },
  {
   "cell_type": "markdown",
   "id": "08291f4e",
   "metadata": {},
   "source": [
    "## Filter by date \n",
    "<a id=\"cut-off-date\"></a>"
   ]
  },
  {
   "cell_type": "code",
   "execution_count": null,
   "id": "1ff21c50",
   "metadata": {},
   "outputs": [],
   "source": [
    "# Cut off date changed each week \n",
    "cut_off_date = pd.to_datetime('2023-06-13').date()\n",
    "\n",
    "not_accessed = not_accessed[\n",
    "    (not_accessed['date_of_last_step_visit'] < cut_off_date) |\n",
    "    (pd.isnull(not_accessed['date_of_last_step_visit']))\n",
    "]\n",
    "\n",
    "not_accessed['date_of_last_step_visit'] = pd.to_datetime(not_accessed['date_of_last_step_visit'])\n",
    "\n",
    "not_accessed['date_of_last_step_visit'].fillna(pd.to_datetime('1900-01-01'), inplace=True)\n",
    "not_accessed"
   ]
  },
  {
   "cell_type": "code",
   "execution_count": null,
   "id": "10360677",
   "metadata": {},
   "outputs": [],
   "source": [
    "req_columns = ['FIRST_NAME', 'LAST_NAME','EMAIL', 'learner_identifier']\n",
    "not_accessed_merged = not_accessed.merge(aula_report_2[req_columns], on='learner_identifier', how='left')\n",
    "not_accessed_merged.drop_duplicates()\n",
    "not_accessed_merged"
   ]
  },
  {
   "cell_type": "markdown",
   "id": "66ed6c79",
   "metadata": {},
   "source": [
    "### Not accessed pivot table"
   ]
  },
  {
   "cell_type": "code",
   "execution_count": null,
   "id": "28067377",
   "metadata": {
    "scrolled": true
   },
   "outputs": [],
   "source": [
    "pivot_table = pd.pivot_table(not_accessed_merged, values='date_of_last_step_visit', index=['learner_identifier', 'FIRST_NAME', 'LAST_NAME', 'EMAIL'], aggfunc='max')\n",
    "pivot_table['date_of_last_step_visit'] = pivot_table['date_of_last_step_visit'].replace(pd.to_datetime('1900-01-01'), '')\n",
    "not_accessed_pivot_table = pivot_table.reset_index()  # Reset the index to make 'learner_identifier', 'FIRST_NAME', 'LAST_NAME', 'EMAIL' as separate columns\n",
    "not_accessed_pivot_table = not_accessed_pivot_table[['learner_identifier', 'date_of_last_step_visit','FIRST_NAME', 'LAST_NAME', 'EMAIL']]  \n",
    "not_accessed_pivot_table = not_accessed_pivot_table.sort_values(by='LAST_NAME')  # Sort the table by 'LAST_NAME' column\n",
    "not_accessed_pivot_table = not_accessed_pivot_table.reset_index(drop=True) \n",
    "not_accessed_pivot_table\n",
    "\n"
   ]
  },
  {
   "cell_type": "code",
   "execution_count": null,
   "id": "bad5d9b7",
   "metadata": {},
   "outputs": [],
   "source": [
    "learner_report = elr.copy()\n",
    "learner_report['date_of_last_step_visit'] = pd.to_datetime(learner_report['date_of_last_step_visit'])\n",
    "learner_report['date_of_last_step_visit'].fillna(pd.to_datetime('1900-01-01'), inplace=True)\n",
    "learner_report"
   ]
  },
  {
   "cell_type": "markdown",
   "id": "7148404f",
   "metadata": {},
   "source": [
    "# Creating a list of student emails"
   ]
  },
  {
   "cell_type": "code",
   "execution_count": null,
   "id": "33dbd539",
   "metadata": {},
   "outputs": [],
   "source": [
    "learner_report_emails = learner_report[learner_report['learner_identifier'].str.contains('@')].reset_index(drop=True)\n",
    "learner_report_emails"
   ]
  },
  {
   "cell_type": "markdown",
   "id": "e59d2ae3",
   "metadata": {},
   "source": [
    "## Pivot table of student emails with max 'date of last step visit'"
   ]
  },
  {
   "cell_type": "code",
   "execution_count": null,
   "id": "85d1abc2",
   "metadata": {},
   "outputs": [],
   "source": [
    "email_pivot_table = pd.pivot_table(learner_report_emails, values='date_of_last_step_visit', index=['learner_identifier'], aggfunc='max')\n",
    "email_pivot_table['date_of_last_step_visit'] = email_pivot_table['date_of_last_step_visit'].replace(pd.to_datetime('1900-01-01'), '')\n",
    "email_pivot_table = email_pivot_table.reset_index()  # Reset the index to make 'learner_identifier', 'FIRST_NAME', 'LAST_NAME', 'EMAIL' as separate columns\n",
    "\n",
    "student_emails = email_pivot_table[['learner_identifier', 'date_of_last_step_visit']]  \n",
    "student_emails = student_emails.sort_values(by='learner_identifier')  # Sort the table by 'LAST_NAME' column\n",
    "student_emails = student_emails.reset_index(drop=True)\n",
    "student_emails.rename(columns={'learner_identifier':'Students email'},inplace=True)\n",
    "student_emails"
   ]
  },
  {
   "cell_type": "markdown",
   "id": "109e4a49",
   "metadata": {},
   "source": [
    "# Creating a list of student IDs"
   ]
  },
  {
   "cell_type": "code",
   "execution_count": null,
   "id": "beb4287a",
   "metadata": {},
   "outputs": [],
   "source": [
    "learner_report_sid = learner_report[learner_report['learner_identifier'].str.isdigit()].reset_index(drop=True)\n",
    "learner_report_sid"
   ]
  },
  {
   "cell_type": "markdown",
   "id": "1b0bdad8",
   "metadata": {},
   "source": [
    "## Pivot table of student IDs with max 'date of last step visit'\n"
   ]
  },
  {
   "cell_type": "code",
   "execution_count": null,
   "id": "068692e0",
   "metadata": {},
   "outputs": [],
   "source": [
    "sid_pivot_table = pd.pivot_table(learner_report_sid, values='date_of_last_step_visit', index=['learner_identifier'], aggfunc='max')\n",
    "sid_pivot_table['date_of_last_step_visit'] = sid_pivot_table['date_of_last_step_visit'].replace(pd.to_datetime('1900-01-01'), '')\n",
    "sid_pivot_table = sid_pivot_table.reset_index()  # Reset the index to make 'learner_identifier', 'FIRST_NAME', 'LAST_NAME', 'EMAIL' as separate columns\n",
    "\n",
    "sid = sid_pivot_table[['learner_identifier', 'date_of_last_step_visit']]  \n",
    "sid = sid.sort_values(by='learner_identifier')  # Sort the table by 'LAST_NAME' column\n",
    "sid = sid.reset_index(drop=True)\n",
    "sid.rename(columns={'learner_identifier':'SID'},inplace=True)\n",
    "sid"
   ]
  },
  {
   "cell_type": "markdown",
   "id": "d9b134d3",
   "metadata": {},
   "source": [
    "### Output to Excel sheet"
   ]
  },
  {
   "cell_type": "code",
   "execution_count": null,
   "id": "909ae678",
   "metadata": {},
   "outputs": [],
   "source": [
    "# Convert date columns to datetime format\n",
    "FL_Learner_report['date_of_last_step_visit'] = pd.to_datetime(FL_Learner_report['date_of_last_step_visit'])\n",
    "not_accessed_pivot_table['date_of_last_step_visit'] = pd.to_datetime(not_accessed_pivot_table['date_of_last_step_visit'])\n",
    "sid['date_of_last_step_visit'] = pd.to_datetime(sid['date_of_last_step_visit'])\n",
    "student_emails['date_of_last_step_visit'] = pd.to_datetime(student_emails['date_of_last_step_visit'])\n",
    "\n",
    "\n",
    "# Convert date columns to date type and extract only the date portion\n",
    "FL_Learner_report['date_of_last_step_visit'] = FL_Learner_report['date_of_last_step_visit'].dt.date\n",
    "not_accessed_pivot_table['date_of_last_step_visit'] = not_accessed_pivot_table['date_of_last_step_visit'].dt.date\n",
    "sid['date_of_last_step_visit'] = sid['date_of_last_step_visit'].dt.date\n",
    "student_emails['date_of_last_step_visit'] = student_emails['date_of_last_step_visit'].dt.date"
   ]
  },
  {
   "cell_type": "code",
   "execution_count": null,
   "id": "5ebf6cd5",
   "metadata": {},
   "outputs": [],
   "source": [
    "file_path = 'SEC_Report.xlsx'\n",
    "\n",
    "# Save the DataFrames to the Excel workbook\n",
    "with pd.ExcelWriter(file_path, engine='xlsxwriter') as writer:\n",
    "    FL_Learner_report.to_excel(writer, sheet_name='FL Learner Report', index=False)\n",
    "    lti_not_used.to_excel(writer, sheet_name='LTI link not used', index=False)\n",
    "    not_accessed_pivot_table.to_excel(writer, sheet_name='FL Not Accessed', index=False)\n",
    "    sid.to_excel(writer, sheet_name='Students IDs', index=False)\n",
    "    student_emails.to_excel(writer, sheet_name='Student emails', index=False)\n",
    "\n",
    "# Display the file path as a link\n",
    "display(FileLink(file_path))"
   ]
  }
 ],
 "metadata": {
  "kernelspec": {
   "display_name": "Python 3 (ipykernel)",
   "language": "python",
   "name": "python3"
  },
  "language_info": {
   "codemirror_mode": {
    "name": "ipython",
    "version": 3
   },
   "file_extension": ".py",
   "mimetype": "text/x-python",
   "name": "python",
   "nbconvert_exporter": "python",
   "pygments_lexer": "ipython3",
   "version": "3.10.9"
  }
 },
 "nbformat": 4,
 "nbformat_minor": 5
}
